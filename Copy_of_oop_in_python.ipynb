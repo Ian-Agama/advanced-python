{
  "nbformat": 4,
  "nbformat_minor": 0,
  "metadata": {
    "colab": {
      "provenance": [],
      "authorship_tag": "ABX9TyN6cCOjohHkT9EzrRorhB8e",
      "include_colab_link": true
    },
    "kernelspec": {
      "name": "python3",
      "display_name": "Python 3"
    },
    "language_info": {
      "name": "python"
    }
  },
  "cells": [
    {
      "cell_type": "markdown",
      "metadata": {
        "id": "view-in-github",
        "colab_type": "text"
      },
      "source": [
        "<a href=\"https://colab.research.google.com/github/Ian-Agama/advanced-python/blob/master/Copy_of_oop_in_python.ipynb\" target=\"_parent\"><img src=\"https://colab.research.google.com/assets/colab-badge.svg\" alt=\"Open In Colab\"/></a>"
      ]
    },
    {
      "cell_type": "code",
      "source": [
        "#starter code for programming in oop-python\n",
        "class Item:\n",
        "  '''\n",
        "  magic methods inpyton\n",
        "  ie the def__init\n",
        "  constructor class method\n",
        "\n",
        "  def__dict__ gets all the attibites within a class\n",
        "\n",
        "\n",
        "  '''\n",
        "\n",
        "  #creating a method\n",
        "  # self is industry standard to initialize things with the python method\n",
        "  def calculate_item_price(self,x ,y):\n",
        "    return x* y\n",
        "\n",
        "item1 = Item()\n",
        "item1.name = \"Phone\"\n",
        "item1.price = 100\n",
        "item1.quantity =5\n",
        "print(item1.calculate_item_price(item1.price, item1.quantity))#to return the amount calculated\n",
        "\n",
        "print(type(item1))\n",
        "\n",
        "\n",
        "\n",
        "item2 = Item()\n",
        "item2.name = \"Laptop\"\n",
        "item2.price = 1000\n",
        "item2.quantity = 3\n",
        "\n",
        "print(item1.quantity)\n",
        "print(type(item2))\n",
        "print(item2.quantity)\n",
        "\n",
        "\n"
      ],
      "metadata": {
        "colab": {
          "base_uri": "https://localhost:8080/"
        },
        "id": "nURnN0s2B-XG",
        "outputId": "06a8de86-0a07-414d-9c78-4389e91dd42f"
      },
      "execution_count": null,
      "outputs": [
        {
          "output_type": "stream",
          "name": "stdout",
          "text": [
            "i am the one \n",
            "2500\n",
            "<class '__main__.Item'>\n",
            "i am the one \n",
            "5\n",
            "<class '__main__.Item'>\n",
            "3\n"
          ]
        }
      ]
    },
    {
      "cell_type": "code",
      "source": [
        "lists = []\n",
        "list = range(1,1000)\n",
        "\n",
        "def is_prime(num):\n",
        "  if(num%x)==0:\n",
        "    return False\n",
        "  return True\n",
        "\n",
        "for i in list:\n",
        "  if is_prime(i):\n",
        "\n",
        "\n",
        "  list.append(i)\n",
        "print(list)"
      ],
      "metadata": {
        "id": "CAg9YKoGOCeD"
      },
      "execution_count": null,
      "outputs": []
    },
    {
      "cell_type": "code",
      "source": [
        "\"\"\"\n",
        "intantiatiating a constructor\n",
        "\n",
        "\n",
        "\"\"\"\n",
        "#starter code for programming in oop-python\n",
        "class Item:\n",
        "  #class atributes\n",
        "  pay_rate = 0.5 #deductions made to the price\n",
        "\n",
        "  '''\n",
        "  magic methods inpyton\n",
        "  ie the def__init\n",
        "  constructor\n",
        "  '''\n",
        "  #creating a constructor class for the methods\n",
        "  # it is very important to declare the data types for each in the contructor\n",
        "  def __init__(self, name:str, price: float, quantity=0 ):#since the default is an int then it will validate the others as an integer\n",
        "\n",
        "    # this is initaialixing the attribute of name to the item variable\n",
        "    #Run validations to the received arguments\n",
        "    assert price >= 0 , f\"Price {price} is not greater than or equal to 0\"\n",
        "    assert quantity >= 0 , f\"Quantity {quantity} is not greater than or equal to 0\"\n",
        "    #Assign\n",
        "    assert price >= 0\n",
        "    self.name = name\n",
        "    self.price = price\n",
        "    self.quantity =  quantity\n",
        "    #assert statement keyword used to check what is happening is what is required of it\n",
        "\n",
        "\n",
        "  #creating a method\n",
        "  # self is industry standard to initialize things with the python method\n",
        "  def calculate_item_price(self,x ,y):\n",
        "    return self.price * self.quantity\n",
        "\n",
        "\n",
        "  def apply_discount(self):\n",
        "    #self helps to collec\n",
        "    self.price = self.price * self.pay_rate\n",
        "\n",
        "\"\"\"\n",
        "item2.pay_rate = 0.7\n",
        "item2.apply_discount()\n",
        "print(item2.price)\n",
        "\"\"\"\n",
        "item1 = Item(\"Phone\",500,5)\n",
        "\n",
        "\n",
        "\n",
        "print(type(item1))\n",
        "print(type(item2))\n",
        "\n",
        "print(item1.calculate_item_price(item1.price, item1.quantity))#to return the amount calculated\n",
        "print(item2.calculate_item_price(item2.price, item2.quantity))\n",
        "\n",
        "#overrides also exist here and can be seen in line with the overriden constructor for item1\n",
        "\n",
        "\n",
        "item2 = Item(\"Laptop\",1000)\n",
        "item1.apply_discount\n",
        "print(item1.price)\n",
        "print(Item.__dict__)#all the attributes for the item level\n",
        "print(Item.__dict__)\n",
        "item2.has_numpad = False\n",
        "\"\"\"print(item1.quantity)\n",
        "print(Item.pay_rate)\n",
        "print(item1.pay_rate)#trys to bring the attribute from the instance level so the go ahead and get it from the class level\n",
        "\"\"\"\n",
        "print(item2.quantity)\n",
        "\n",
        "\n"
      ],
      "metadata": {
        "colab": {
          "base_uri": "https://localhost:8080/"
        },
        "id": "qR7Jqqz8Ktw5",
        "outputId": "cea087f1-593a-4bfb-ba28-3945ec6e0417"
      },
      "execution_count": null,
      "outputs": [
        {
          "output_type": "stream",
          "name": "stdout",
          "text": [
            "<class '__main__.Item'>\n",
            "<class '__main__.Item'>\n",
            "2500\n",
            "0\n",
            "500\n",
            "{'__module__': '__main__', 'pay_rate': 0.5, '__init__': <function Item.__init__ at 0x7c35834637f0>, 'calculate_item_price': <function Item.calculate_item_price at 0x7c35834608b0>, 'apply_discount': <function Item.apply_discount at 0x7c3583461360>, '__dict__': <attribute '__dict__' of 'Item' objects>, '__weakref__': <attribute '__weakref__' of 'Item' objects>, '__doc__': None}\n",
            "{'__module__': '__main__', 'pay_rate': 0.5, '__init__': <function Item.__init__ at 0x7c35834637f0>, 'calculate_item_price': <function Item.calculate_item_price at 0x7c35834608b0>, 'apply_discount': <function Item.apply_discount at 0x7c3583461360>, '__dict__': <attribute '__dict__' of 'Item' objects>, '__weakref__': <attribute '__weakref__' of 'Item' objects>, '__doc__': None}\n",
            "0\n"
          ]
        }
      ]
    },
    {
      "cell_type": "code",
      "execution_count": null,
      "metadata": {
        "colab": {
          "base_uri": "https://localhost:8080/"
        },
        "id": "ksFK80qPBszX",
        "outputId": "dcf753c7-8a89-4c5a-efa1-59d0f832e6aa"
      },
      "outputs": [
        {
          "output_type": "stream",
          "name": "stdout",
          "text": [
            "Phone\n",
            "Laptop\n",
            "Cable\n",
            "Mouse\n",
            "Keyboard\n"
          ]
        }
      ],
      "source": [
        "\"\"\"\n",
        "class attribute all\n",
        "\n",
        "much work is needed research betweeen the 2\n",
        "it seems to be a toString method\n",
        "magic method repr\n",
        "representing the objects while presenting in the console\n",
        "ster\n",
        "\n",
        "\"\"\"\n",
        "#starter code for programming in oop-python\n",
        "class Item:\n",
        "  #class atributes\n",
        "  pay_rate = 0.5 #deductions made to the price\n",
        "  all = []\n",
        "\n",
        "  '''\n",
        "  magic methods inpyton\n",
        "  ie the def__init\n",
        "  constructor\n",
        "  '''\n",
        "  #creating a constructor class for the methods\n",
        "  # it is very important to declare the data types for each in the contructor\n",
        "  def __init__(self, name:str, price: float, quantity=0 ):#since the default is an int then it will validate the others as an integer\n",
        "\n",
        "    # this is initaialixing the attribute of name to the item variable\n",
        "    #Run validations to the received arguments\n",
        "    assert price >= 0 , f\"Price {price} is not greater than or equal to 0\"\n",
        "    assert quantity >= 0 , f\"Quantity {quantity} is not greater than or equal to 0\"\n",
        "\n",
        "    #Assign to self object\n",
        "    self.name = name\n",
        "    self.price = price\n",
        "    self.quantity =  quantity\n",
        "    #assert statement keyword used to check what is happening is what is required of it\n",
        "\n",
        "    #Action to excute\n",
        "    Item.all.append(self)\n",
        "\n",
        "\n",
        "  #creating a method\n",
        "  # self is industry standard to initialize things with the python method\n",
        "  def calculate_item_price(self,x ,y):\n",
        "    return self.price * self.quantity\n",
        "\n",
        "\n",
        "  def apply_discount(self):\n",
        "    #self helps to collec\n",
        "    self.price = self.price * self.pay_rate\n",
        "\n",
        "  def __repr__(self):\n",
        "    return f\"Item('{self.name}',{self.price},{self.quantity})\"\n",
        "\n",
        "\"\"\"\n",
        "item2.pay_rate = 0.7\n",
        "item2.apply_discount()\n",
        "print(item2.price)\n",
        "\"\"\"\n",
        "item1 = Item(\"Phone\",500,5)\n",
        "item2 = Item(\"Laptop\",1000)\n",
        "item3 = Item(\"Cable\", 10, 5)\n",
        "item4 = Item(\"Mouse\",50,5)\n",
        "item5 = Item(\"Keyboard\",75,5)\n",
        "\n",
        "#print(Item.all)\n",
        "for instance in Item.all:\n",
        "  print(instance.name)\n",
        "\n"
      ]
    },
    {
      "cell_type": "code",
      "source": [
        "variable_name = \"\" # @param {type:\"string\"}\n",
        "\"\"\"\n",
        "static vs\n",
        "\"\"\""
      ],
      "metadata": {
        "id": "2nStv6cZfVFs"
      },
      "execution_count": null,
      "outputs": []
    },
    {
      "cell_type": "markdown",
      "source": [
        "learning object oriented design and"
      ],
      "metadata": {
        "id": "mJ5b-Ef1Bw3G"
      }
    },
    {
      "cell_type": "markdown",
      "source": [
        "*italicized text*"
      ],
      "metadata": {
        "id": "EBaa3ZQvB4hH"
      }
    }
  ]
}